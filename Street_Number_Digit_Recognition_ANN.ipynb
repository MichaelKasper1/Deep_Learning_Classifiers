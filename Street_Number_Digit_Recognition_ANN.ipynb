{
 "cells": [
  {
   "cell_type": "markdown",
   "metadata": {
    "id": "Q91KqmCRu64D"
   },
   "source": [
    "# **Artificial Neural Networks Project: Street View Housing Number Digit Recognition**\n",
    "\n",
    "--------------\n",
    "## **Context** \n",
    "--------------\n",
    "\n",
    "One of the most interesting tasks in deep learning is to recognize objects in natural scenes. The ability to process visual information using machine learning algorithms can be very useful as demonstrated in various applications.\n",
    "\n",
    "The SVHN dataset contains over 600,000 labeled digits cropped from street-level photos. It has been used in neural networks created by Google to improve the map quality by automatically transcribing the address numbers from a patch of pixels. The transcribed number with a known street address helps pinpoint the location of the building it represents. \n",
    "\n",
    "----------------\n",
    "## **Objective**\n",
    "----------------\n",
    "\n",
    "To build a feed-forward neural network model that can recognize the digits in the images. \n",
    "\n",
    "-------------\n",
    "## **Dataset**\n",
    "-------------\n",
    "Here, we will use a subset of the original data to save some computation time. The dataset is provided as a .h5 file. The basic preprocessing steps have been applied on the dataset."
   ]
  },
  {
   "cell_type": "markdown",
   "metadata": {
    "id": "8z2Z7-OAs8QG"
   },
   "source": [
    "## **Mount the drive**\n",
    "\n",
    "Let us start by mounting the Google drive. You can run the below cell to mount the Google drive."
   ]
  },
  {
   "cell_type": "code",
   "execution_count": 2,
   "metadata": {
    "colab": {
     "base_uri": "https://localhost:8080/"
    },
    "id": "Kz2oedYKD-po",
    "outputId": "5b9ffd1f-8b40-4542-e226-f50dd3eba304"
   },
   "outputs": [
    {
     "name": "stdout",
     "output_type": "stream",
     "text": [
      "3.7.13 (default, Apr 24 2022, 01:04:09) \n",
      "[GCC 7.5.0]\n"
     ]
    }
   ],
   "source": [
    "import sys\n",
    "\n",
    "print(sys.version)"
   ]
  },
  {
   "cell_type": "code",
   "execution_count": 3,
   "metadata": {
    "colab": {
     "base_uri": "https://localhost:8080/"
    },
    "id": "03lDyQUuef7z",
    "outputId": "b4f35d32-a045-4df5-8113-defc8a74e5bd"
   },
   "outputs": [
    {
     "name": "stdout",
     "output_type": "stream",
     "text": [
      "Mounted at /content/drive\n"
     ]
    }
   ],
   "source": [
    "from google.colab import drive\n",
    "\n",
    "drive.mount('/content/drive')"
   ]
  },
  {
   "cell_type": "markdown",
   "metadata": {
    "id": "C8U3DUa3eNsT"
   },
   "source": [
    "## **Importing the necessary libraries**"
   ]
  },
  {
   "cell_type": "code",
   "execution_count": 4,
   "metadata": {
    "id": "-dVzeuF3eQx1"
   },
   "outputs": [],
   "source": [
    "import numpy as np\n",
    "\n",
    "import pandas as pd\n",
    "\n",
    "import matplotlib.pyplot as plt\n",
    "\n",
    "import seaborn as sns\n",
    "\n",
    "from sklearn.model_selection import train_test_split\n",
    "\n",
    "from sklearn.preprocessing import MinMaxScaler\n",
    "\n",
    "import tensorflow as tf\n",
    "\n",
    "from tensorflow.keras.models import Sequential\n",
    "\n",
    "from tensorflow.keras.layers import Dense, Dropout, Activation, BatchNormalization\n",
    "\n",
    "from tensorflow.keras.losses import categorical_crossentropy\n",
    "\n",
    "from tensorflow.keras.optimizers import Adam\n",
    "\n",
    "from tensorflow.keras.utils import to_categorical"
   ]
  },
  {
   "cell_type": "markdown",
   "metadata": {
    "id": "ucnevGLoyKf_"
   },
   "source": [
    "**Let us check the version of tensorflow.**"
   ]
  },
  {
   "cell_type": "code",
   "execution_count": 5,
   "metadata": {
    "colab": {
     "base_uri": "https://localhost:8080/"
    },
    "id": "W5as47YxyJVk",
    "outputId": "ec2ce93a-4752-4cb2-ac3b-9b3340910bb4"
   },
   "outputs": [
    {
     "name": "stdout",
     "output_type": "stream",
     "text": [
      "2.8.0\n"
     ]
    }
   ],
   "source": [
    "print(tf.__version__)"
   ]
  },
  {
   "cell_type": "markdown",
   "metadata": {
    "id": "8lsux2ZwyTTR"
   },
   "source": [
    "## **Load the dataset**\n",
    "\n",
    "- Let us now load the dataset that is available as a .h5 file.\n",
    "- Split the data into the train and the test dataset."
   ]
  },
  {
   "cell_type": "code",
   "execution_count": 6,
   "metadata": {
    "id": "BApX9qgNsqV0",
    "scrolled": true
   },
   "outputs": [],
   "source": [
    "import h5py\n",
    "\n",
    "# Open the file as read only\n",
    "# User can make changes in the path as required\n",
    "\n",
    "h5f = h5py.File('/content/drive/MyDrive/Colab Notebooks/ADSP/SVHN_single_grey1.h5', 'r')\n",
    "\n",
    "# Load the training and the test dataset\n",
    "\n",
    "X_train = h5f['X_train'][:]\n",
    "\n",
    "y_train = h5f['y_train'][:]\n",
    "\n",
    "X_test = h5f['X_test'][:]\n",
    "\n",
    "y_test = h5f['y_test'][:]\n",
    "\n",
    "\n",
    "# Close this file\n",
    "\n",
    "h5f.close()"
   ]
  },
  {
   "cell_type": "markdown",
   "metadata": {
    "id": "hVe0CYpUgj7w"
   },
   "source": [
    "Let's check the number of images in the training and the testing dataset."
   ]
  },
  {
   "cell_type": "code",
   "execution_count": 7,
   "metadata": {
    "colab": {
     "base_uri": "https://localhost:8080/"
    },
    "id": "y3lwKpOefkpA",
    "outputId": "43b8a15a-daee-42e2-a570-538731ca4910"
   },
   "outputs": [
    {
     "data": {
      "text/plain": [
       "(42000, 18000)"
      ]
     },
     "execution_count": 7,
     "metadata": {},
     "output_type": "execute_result"
    }
   ],
   "source": [
    "len(X_train), len(X_test)"
   ]
  },
  {
   "cell_type": "markdown",
   "metadata": {
    "id": "akTUOfLlgwoM"
   },
   "source": [
    "**Observation:**\n",
    "- There are 42,000 images in the training data and 18,000 images in the testing data. "
   ]
  },
  {
   "cell_type": "markdown",
   "metadata": {
    "id": "kxODV6HKykuc"
   },
   "source": [
    "## **Visualizing images**\n",
    "\n",
    "- Use X_train to visualize the first 10 images.\n",
    "- Use Y_train to print the first 10 labels."
   ]
  },
  {
   "cell_type": "code",
   "execution_count": 8,
   "metadata": {
    "colab": {
     "base_uri": "https://localhost:8080/",
     "height": 95
    },
    "id": "Bvsc8ytHsqWD",
    "outputId": "c92afcc3-eec6-4325-b5ba-7fff0008f735"
   },
   "outputs": [
    {
     "data": {
      "image/png": "[encoded data removed]",
      "text/plain": [
       "<Figure size 720x72 with 10 Axes>"
      ]
     },
     "metadata": {
      "needs_background": "light"
     },
     "output_type": "display_data"
    },
    {
     "name": "stdout",
     "output_type": "stream",
     "text": [
      "label for each of the above image: [2 6 7 4 4 0 3 0 7 3]\n"
     ]
    }
   ],
   "source": [
    "# Visualizing the first 10 images in the dataset and printing their labels\n",
    "\n",
    "plt.figure(figsize = (10, 1))\n",
    "\n",
    "for i in range(10):\n",
    "\n",
    "    plt.subplot(1, 10, i+1)\n",
    "\n",
    "    plt.imshow(X_train[i], cmap = \"gray\")\n",
    "\n",
    "    plt.axis('off')\n",
    "\n",
    "plt.show()\n",
    "\n",
    "print('label for each of the above image: %s' % (y_train[0:10]))"
   ]
  },
  {
   "cell_type": "markdown",
   "metadata": {
    "id": "kzoyeXHOy80N"
   },
   "source": [
    "## **Data preparation**\n",
    "\n",
    "- Print the shape and the array of pixels for the first image in the training dataset.\n",
    "- Reshape the train and the test dataset because we always have to give a 4D array as input to CNNs.\n",
    "- Normalize the train and the test dataset by dividing by 255.\n",
    "- Print the new shapes of the train and the test dataset.\n",
    "- One-hot encode the target variable."
   ]
  },
  {
   "cell_type": "code",
   "execution_count": 9,
   "metadata": {
    "colab": {
     "base_uri": "https://localhost:8080/"
    },
    "id": "NqndzQXng9rL",
    "outputId": "5de9cf2b-366e-4278-a57a-70f1a710b607"
   },
   "outputs": [
    {
     "name": "stdout",
     "output_type": "stream",
     "text": [
      "Shape: (32, 32)\n",
      "\n",
      "First image:\n",
      " [[ 33.0704  30.2601  26.852  ...  71.4471  58.2204  42.9939]\n",
      " [ 25.2283  25.5533  29.9765 ... 113.0209 103.3639  84.2949]\n",
      " [ 26.2775  22.6137  40.4763 ... 113.3028 121.775  115.4228]\n",
      " ...\n",
      " [ 28.5502  36.212   45.0801 ...  24.1359  25.0927  26.0603]\n",
      " [ 38.4352  26.4733  23.2717 ...  28.1094  29.4683  30.0661]\n",
      " [ 50.2984  26.0773  24.0389 ...  49.6682  50.853   53.0377]]\n"
     ]
    }
   ],
   "source": [
    "# Shape and the array of pixels for the first image\n",
    "\n",
    "print(\"Shape:\", X_train[0].shape)\n",
    "\n",
    "print()\n",
    "\n",
    "print(\"First image:\\n\", X_train[0])"
   ]
  },
  {
   "cell_type": "code",
   "execution_count": 10,
   "metadata": {
    "id": "D9YPwf9ysqWU"
   },
   "outputs": [],
   "source": [
    "# Reshaping the dataset to flatten them. We are reshaping the 2D image into 1D array\n",
    "\n",
    "X_train = X_train.reshape(X_train.shape[0], 1024)\n",
    "\n",
    "X_test = X_test.reshape(X_test.shape[0], 1024)"
   ]
  },
  {
   "cell_type": "code",
   "execution_count": 11,
   "metadata": {
    "id": "q_yUUTp_mUzB"
   },
   "outputs": [],
   "source": [
    "# Normalize inputs from 0-255 to 0-1\n",
    "\n",
    "X_train = X_train.astype('float32') / 255\n",
    "\n",
    "X_test = X_test.astype('float32') / 255"
   ]
  },
  {
   "cell_type": "code",
   "execution_count": 12,
   "metadata": {
    "colab": {
     "base_uri": "https://localhost:8080/"
    },
    "id": "t7FSqOpamWkH",
    "outputId": "e993062f-5394-4bd7-8fe5-c3de2ae4ffce"
   },
   "outputs": [
    {
     "name": "stdout",
     "output_type": "stream",
     "text": [
      "Training set: (42000, 1024) (42000,)\n",
      "Test set: (18000, 1024) (18000,)\n"
     ]
    }
   ],
   "source": [
    "# New shape \n",
    "\n",
    "print('Training set:', X_train.shape, y_train.shape)\n",
    "\n",
    "print('Test set:', X_test.shape, y_test.shape)"
   ]
  },
  {
   "cell_type": "code",
   "execution_count": 13,
   "metadata": {
    "colab": {
     "base_uri": "https://localhost:8080/"
    },
    "id": "zL0lYER4sqWw",
    "outputId": "c79852b7-ac2b-44a7-89c9-c928ba1b67a6"
   },
   "outputs": [
    {
     "data": {
      "text/plain": [
       "array([[0., 1., 0., ..., 0., 0., 0.],\n",
       "       [0., 0., 0., ..., 1., 0., 0.],\n",
       "       [0., 0., 1., ..., 0., 0., 0.],\n",
       "       ...,\n",
       "       [0., 0., 0., ..., 1., 0., 0.],\n",
       "       [0., 0., 0., ..., 0., 0., 1.],\n",
       "       [0., 0., 1., ..., 0., 0., 0.]], dtype=float32)"
      ]
     },
     "execution_count": 13,
     "metadata": {},
     "output_type": "execute_result"
    }
   ],
   "source": [
    "# One-hot encode output\n",
    "\n",
    "y_train = to_categorical(y_train)\n",
    "\n",
    "y_test = to_categorical(y_test)\n",
    "\n",
    "# Test labels\n",
    "\n",
    "y_test"
   ]
  },
  {
   "cell_type": "markdown",
   "metadata": {
    "id": "ViqPOTquCF76"
   },
   "source": [
    "**Observation:**\n",
    "- Notice that each entry of the target variable is a one-hot encoded vector instead of a single label."
   ]
  },
  {
   "cell_type": "markdown",
   "metadata": {
    "id": "yH-gVrzuByNA"
   },
   "source": [
    "## **Model Building**\n",
    "\n",
    "Now that we have done the data preprocessing, let's build an ANN model."
   ]
  },
  {
   "cell_type": "code",
   "execution_count": 14,
   "metadata": {
    "id": "BcKRwrGn0XIL"
   },
   "outputs": [],
   "source": [
    "# Fixing the seed for random number generators\n",
    "\n",
    "np.random.seed(42)\n",
    "\n",
    "import random\n",
    "\n",
    "random.seed(42)\n",
    "\n",
    "tf.random.set_seed(42)"
   ]
  },
  {
   "cell_type": "markdown",
   "metadata": {
    "id": "UJDUoaEj1d6e"
   },
   "source": [
    "### **Model Architecture**\n",
    "- Write a function that returns a sequential model with the following architecture:\n",
    " - First hidden layer with **64 nodes and the relu activation** and the **input shape = (1024, )**\n",
    " - Second hidden layer with **32 nodes and the relu activation**\n",
    " - Output layer with **activation as 'softmax' and number of nodes equal to the number of classes, i.e., 10**\n",
    " - Compile the model with the **loss equal to categorical_crossentropy, optimizer equal to Adam(learning_rate = 0.001), and metric equal to 'accuracy'**. Do not fit the model here, just return the compiled model.\n",
    "- Call the nn_model_1 function and store the model in a new variable. \n",
    "- Print the summary of the model.\n",
    "- Fit on the train data with a **validation split of 0.2, batch size = 128, verbose = 1, and epochs = 20**. Store the model building history to use later for visualization."
   ]
  },
  {
   "cell_type": "code",
   "execution_count": 27,
   "metadata": {
    "id": "Cmi81Gr5sqW-"
   },
   "outputs": [],
   "source": [
    "# Define the model\n",
    "\n",
    "def nn_model_1():\n",
    "\n",
    "    model = Sequential() \n",
    "\n",
    "    # Add layers as per the architecture mentioned above in the same sequence\n",
    "    \n",
    "    model.add(Dense(64, activation = 'relu' , input_shape= (1024, )))\n",
    "\n",
    "    model.add(Dense(32, activation = 'relu' ))\n",
    "\n",
    "    model.add(Dense(10, activation = 'softmax'))\n",
    "      \n",
    "    # Compile the model\n",
    "\n",
    "    model.compile(loss = 'categorical_crossentropy', optimizer = 'Adam', metrics = ['accuracy'])\n",
    "    \n",
    "    return model"
   ]
  },
  {
   "cell_type": "code",
   "execution_count": 28,
   "metadata": {
    "id": "bGCUI_xsImnH"
   },
   "outputs": [],
   "source": [
    "# Build the model\n",
    "\n",
    "model_1 = nn_model_1()"
   ]
  },
  {
   "cell_type": "code",
   "execution_count": 29,
   "metadata": {
    "colab": {
     "base_uri": "https://localhost:8080/"
    },
    "id": "ckJsLdmdQadZ",
    "outputId": "343a4cb5-a0ce-4aa2-ee10-d9bc646c264b"
   },
   "outputs": [
    {
     "name": "stdout",
     "output_type": "stream",
     "text": [
      "Model: \"sequential_6\"\n",
      "_________________________________________________________________\n",
      " Layer (type)                Output Shape              Param #   \n",
      "=================================================================\n",
      " dense_18 (Dense)            (None, 64)                65600     \n",
      "                                                                 \n",
      " dense_19 (Dense)            (None, 32)                2080      \n",
      "                                                                 \n",
      " dense_20 (Dense)            (None, 10)                330       \n",
      "                                                                 \n",
      "=================================================================\n",
      "Total params: 68,010\n",
      "Trainable params: 68,010\n",
      "Non-trainable params: 0\n",
      "_________________________________________________________________\n"
     ]
    }
   ],
   "source": [
    "# Print the summary\n",
    "\n",
    "model_1.summary()"
   ]
  },
  {
   "cell_type": "code",
   "execution_count": 50,
   "metadata": {
    "colab": {
     "base_uri": "https://localhost:8080/"
    },
    "id": "3Fy3Dif_zcCk",
    "outputId": "cc1a750b-9e02-4c8d-fd1e-2da83ee65c5b"
   },
   "outputs": [
    {
     "name": "stdout",
     "output_type": "stream",
     "text": [
      "Epoch 1/20\n",
      "322/322 [==============================] - 1s 4ms/step - loss: 1.2058 - accuracy: 0.6081 - val_loss: 1.2130 - val_accuracy: 0.6071\n",
      "Epoch 2/20\n",
      "322/322 [==============================] - 1s 4ms/step - loss: 1.2014 - accuracy: 0.6103 - val_loss: 1.2189 - val_accuracy: 0.6024\n",
      "Epoch 3/20\n",
      "322/322 [==============================] - 1s 4ms/step - loss: 1.2003 - accuracy: 0.6129 - val_loss: 1.2298 - val_accuracy: 0.5988\n",
      "Epoch 4/20\n",
      "322/322 [==============================] - 1s 4ms/step - loss: 1.2098 - accuracy: 0.6085 - val_loss: 1.2266 - val_accuracy: 0.5964\n",
      "Epoch 5/20\n",
      "322/322 [==============================] - 1s 4ms/step - loss: 1.2016 - accuracy: 0.6102 - val_loss: 1.2075 - val_accuracy: 0.6024\n",
      "Epoch 6/20\n",
      "322/322 [==============================] - 1s 4ms/step - loss: 1.1985 - accuracy: 0.6141 - val_loss: 1.2266 - val_accuracy: 0.6000\n",
      "Epoch 7/20\n",
      "322/322 [==============================] - 1s 4ms/step - loss: 1.2008 - accuracy: 0.6117 - val_loss: 1.2194 - val_accuracy: 0.6024\n",
      "Epoch 8/20\n",
      "322/322 [==============================] - 1s 5ms/step - loss: 1.1992 - accuracy: 0.6121 - val_loss: 1.2329 - val_accuracy: 0.6012\n",
      "Epoch 9/20\n",
      "322/322 [==============================] - 1s 4ms/step - loss: 1.2011 - accuracy: 0.6114 - val_loss: 1.2329 - val_accuracy: 0.6012\n",
      "Epoch 10/20\n",
      "322/322 [==============================] - 1s 4ms/step - loss: 1.2014 - accuracy: 0.6108 - val_loss: 1.2629 - val_accuracy: 0.5869\n",
      "Epoch 11/20\n",
      "322/322 [==============================] - 1s 4ms/step - loss: 1.1967 - accuracy: 0.6139 - val_loss: 1.2460 - val_accuracy: 0.6024\n",
      "Epoch 12/20\n",
      "322/322 [==============================] - 1s 4ms/step - loss: 1.2019 - accuracy: 0.6117 - val_loss: 1.2283 - val_accuracy: 0.6071\n",
      "Epoch 13/20\n",
      "322/322 [==============================] - 1s 4ms/step - loss: 1.1991 - accuracy: 0.6123 - val_loss: 1.2305 - val_accuracy: 0.6012\n",
      "Epoch 14/20\n",
      "322/322 [==============================] - 1s 4ms/step - loss: 1.1949 - accuracy: 0.6137 - val_loss: 1.2436 - val_accuracy: 0.5976\n",
      "Epoch 15/20\n",
      "322/322 [==============================] - 1s 4ms/step - loss: 1.2000 - accuracy: 0.6121 - val_loss: 1.2470 - val_accuracy: 0.5964\n",
      "Epoch 16/20\n",
      "322/322 [==============================] - 1s 4ms/step - loss: 1.1997 - accuracy: 0.6125 - val_loss: 1.2040 - val_accuracy: 0.6071\n",
      "Epoch 17/20\n",
      "322/322 [==============================] - 1s 4ms/step - loss: 1.1993 - accuracy: 0.6130 - val_loss: 1.2088 - val_accuracy: 0.6000\n",
      "Epoch 18/20\n",
      "322/322 [==============================] - 1s 4ms/step - loss: 1.2003 - accuracy: 0.6128 - val_loss: 1.2375 - val_accuracy: 0.5964\n",
      "Epoch 19/20\n",
      "322/322 [==============================] - 1s 4ms/step - loss: 1.1947 - accuracy: 0.6141 - val_loss: 1.2117 - val_accuracy: 0.6083\n",
      "Epoch 20/20\n",
      "322/322 [==============================] - 1s 4ms/step - loss: 1.1969 - accuracy: 0.6140 - val_loss: 1.2256 - val_accuracy: 0.6024\n"
     ]
    }
   ],
   "source": [
    "# Fit the model\n",
    "\n",
    "history_model_1 = model_1.fit(X_train, y_train, validation_split= 0.02, verbose =1, batch_size =128, epochs = 20)"
   ]
  },
  {
   "cell_type": "markdown",
   "metadata": {
    "id": "tKOckG-KPyLg"
   },
   "source": [
    "### **Plotting the validation and training accuracies**"
   ]
  },
  {
   "cell_type": "code",
   "execution_count": 51,
   "metadata": {
    "colab": {
     "base_uri": "https://localhost:8080/",
     "height": 497
    },
    "id": "lt77zgGMP4yw",
    "outputId": "46881900-a4a3-468d-ec96-974e0fa6d612"
   },
   "outputs": [
    {
     "data": {
      "image/png": "[encoded data removed]",
      "text/plain": [
       "<Figure size 576x576 with 1 Axes>"
      ]
     },
     "metadata": {
      "needs_background": "light"
     },
     "output_type": "display_data"
    }
   ],
   "source": [
    "# Plotting the accuracies\n",
    "\n",
    "dict_hist = history_model_1.history\n",
    "\n",
    "list_ep = [i for i in range(1, 21)]\n",
    "\n",
    "plt.figure(figsize = (8, 8))\n",
    "\n",
    "plt.plot(list_ep, dict_hist['accuracy'], ls = '--', label = 'accuracy')\n",
    "\n",
    "plt.plot(list_ep, dict_hist['val_accuracy'], ls = '--', label = 'val_accuracy')\n",
    "\n",
    "plt.ylabel('Accuracy')\n",
    "\n",
    "plt.xlabel('Epochs')\n",
    "\n",
    "plt.legend()\n",
    "\n",
    "plt.show()"
   ]
  },
  {
   "cell_type": "markdown",
   "metadata": {
    "id": "pGBbQpLONX7k"
   },
   "source": [
    "Observations:\n",
    "- I fit the model quite a few times and it gave me very very different results. The first time I fit the model, it gave me a resulting graph of accuracies vs epochs that looks similiar to the original notebook. Then I started getting accuracies starting around 0.60 which is where the accuracy levels out for this model.\n",
    "- The accuracy of the validation results does not improve as epochs increase.\n",
    "- I am confused because the original line in the notebook fit much better. The original graph had a starting accuracy that was lower than the graphs I have been generating.\n",
    "- This graph is a bit disorienting because the scale on the accuracy is super small. Really what seems to be happinging is that for the past 4 times I have run it, my first epoch is getting a high starting accuracy value. I wonder if by running it multiple times, I started with a higher epoch number for some reason.\n",
    "- Accuracy never goes above 0.65 which is not as high as I would like to get it for utilizing this kind of analysis."
   ]
  },
  {
   "cell_type": "markdown",
   "metadata": {
    "id": "z0qgLMBZm5-K"
   },
   "source": [
    "Let's build one more model with higher complexity and see if we can improve the performance of the model. \n",
    "\n",
    "First, we need to clear the previous model's history from the Keras backend. Also, let's fix the seed again after clearing the backend."
   ]
  },
  {
   "cell_type": "code",
   "execution_count": 52,
   "metadata": {
    "id": "y98BpLxsok_H"
   },
   "outputs": [],
   "source": [
    "# Clearing backend\n",
    "\n",
    "from tensorflow.keras import backend\n",
    "\n",
    "backend.clear_session()"
   ]
  },
  {
   "cell_type": "code",
   "execution_count": 53,
   "metadata": {
    "id": "HbKi93HTolGW"
   },
   "outputs": [],
   "source": [
    "# Fixing the seed for random number generators\n",
    "\n",
    "np.random.seed(42)\n",
    "\n",
    "import random\n",
    "\n",
    "random.seed(42)\n",
    "\n",
    "tf.random.set_seed(42)"
   ]
  },
  {
   "cell_type": "markdown",
   "metadata": {
    "id": "lT6o3TIKuCtk"
   },
   "source": [
    "### **Second Model Architecture**\n",
    "- Write a function that returns a sequential model with the following architecture:\n",
    " - First hidden layer with **256 nodes and the relu activation** and the **input shape = (1024, )**\n",
    " - Second hidden layer with **128 nodes and the relu activation**\n",
    " - Add the **Dropout layer with the rate equal to 0.2**\n",
    " - Third hidden layer with **64 nodes and the relu activation**\n",
    " - Fourth hidden layer with **64 nodes and the relu activation**\n",
    " - Fifth hidden layer with **32 nodes and the relu activation**\n",
    " - Add the **BatchNormalization layer**\n",
    " - Output layer with **activation as 'softmax' and number of nodes equal to the number of classes, i.e., 10**\n",
    " -Compile the model with the **loss equal to categorical_crossentropy, optimizer equal to Adam(learning_rate = 0.0005), and metric equal to 'accuracy'**. Do not fit the model here, just return the compiled model.\n",
    "- Call the nn_model_2 function and store the model in a new variable.\n",
    "- Print the summary of the model.\n",
    "- Fit on the train data with a **validation split of 0.2, batch size = 128, verbose = 1, and epochs = 30**. Store the model building history to use later for visualization."
   ]
  },
  {
   "cell_type": "code",
   "execution_count": 74,
   "metadata": {
    "id": "EEPYLFIPnSDP"
   },
   "outputs": [],
   "source": [
    "# Define the model\n",
    "\n",
    "def nn_model_2():\n",
    "\n",
    "    model = Sequential()  \n",
    "    \n",
    "    # Add layers as per the architecture mentioned above in the same sequence\n",
    "    \n",
    "    model.add(Dense(256, activation = 'relu', input_shape =(1024,)))\n",
    "\n",
    "    model.add(Dense(128, activation ='relu'))\n",
    "\n",
    "    model.add(Dropout(0.2))\n",
    "\n",
    "    model.add(Dense(64, activation ='relu'))\n",
    "\n",
    "    model.add(Dense(64, activation ='relu'))\n",
    "\n",
    "    model.add(Dense(32, activation ='relu'))\n",
    "\n",
    "    model.add(BatchNormalization())\n",
    "\n",
    "    model.add(Dense(10, activation = 'softmax'))\n",
    "    \n",
    "    # Compile the model\n",
    "    optimizer = Adam(learning_rate = 0.0005)\n",
    "    model.compile(loss = 'categorical_crossentropy', optimizer = optimizer, metrics = ['accuracy'])\n",
    "    \n",
    "    return model"
   ]
  },
  {
   "cell_type": "code",
   "execution_count": 75,
   "metadata": {
    "id": "AKjDY4plnSFl"
   },
   "outputs": [],
   "source": [
    "# Build the model\n",
    "\n",
    "model_2 = nn_model_2()"
   ]
  },
  {
   "cell_type": "code",
   "execution_count": 76,
   "metadata": {
    "colab": {
     "base_uri": "https://localhost:8080/"
    },
    "id": "gz_6SVrU2swZ",
    "outputId": "9a1330a7-4b91-4a01-a395-cf1599151f78"
   },
   "outputs": [
    {
     "name": "stdout",
     "output_type": "stream",
     "text": [
      "Model: \"sequential_5\"\n",
      "_________________________________________________________________\n",
      " Layer (type)                Output Shape              Param #   \n",
      "=================================================================\n",
      " dense_17 (Dense)            (None, 256)               262400    \n",
      "                                                                 \n",
      " dense_18 (Dense)            (None, 128)               32896     \n",
      "                                                                 \n",
      " dropout_3 (Dropout)         (None, 128)               0         \n",
      "                                                                 \n",
      " dense_19 (Dense)            (None, 64)                8256      \n",
      "                                                                 \n",
      " dense_20 (Dense)            (None, 64)                4160      \n",
      "                                                                 \n",
      " dense_21 (Dense)            (None, 32)                2080      \n",
      "                                                                 \n",
      " batch_normalization_2 (Batc  (None, 32)               128       \n",
      " hNormalization)                                                 \n",
      "                                                                 \n",
      " dense_22 (Dense)            (None, 10)                330       \n",
      "                                                                 \n",
      "=================================================================\n",
      "Total params: 310,250\n",
      "Trainable params: 310,186\n",
      "Non-trainable params: 64\n",
      "_________________________________________________________________\n"
     ]
    }
   ],
   "source": [
    "# Print the model summary\n",
    "model_2.summary()"
   ]
  },
  {
   "cell_type": "code",
   "execution_count": 77,
   "metadata": {
    "colab": {
     "base_uri": "https://localhost:8080/"
    },
    "id": "IQ0Sc4R-y-uu",
    "outputId": "a9b9902f-30a4-45fc-c064-9b4da7a5d616"
   },
   "outputs": [
    {
     "name": "stdout",
     "output_type": "stream",
     "text": [
      "Epoch 1/30\n",
      "263/263 [==============================] - 4s 11ms/step - loss: 2.3405 - accuracy: 0.1054 - val_loss: 2.2982 - val_accuracy: 0.1208\n",
      "Epoch 2/30\n",
      "263/263 [==============================] - 3s 10ms/step - loss: 2.1418 - accuracy: 0.2073 - val_loss: 1.9761 - val_accuracy: 0.2924\n",
      "Epoch 3/30\n",
      "263/263 [==============================] - 3s 11ms/step - loss: 1.6478 - accuracy: 0.4213 - val_loss: 1.4643 - val_accuracy: 0.5007\n",
      "Epoch 4/30\n",
      "263/263 [==============================] - 3s 10ms/step - loss: 1.3937 - accuracy: 0.5298 - val_loss: 1.2070 - val_accuracy: 0.6151\n",
      "Epoch 5/30\n",
      "263/263 [==============================] - 3s 11ms/step - loss: 1.2578 - accuracy: 0.5869 - val_loss: 1.1566 - val_accuracy: 0.6287\n",
      "Epoch 6/30\n",
      "263/263 [==============================] - 3s 10ms/step - loss: 1.1660 - accuracy: 0.6249 - val_loss: 1.0511 - val_accuracy: 0.6644\n",
      "Epoch 7/30\n",
      "263/263 [==============================] - 3s 10ms/step - loss: 1.0909 - accuracy: 0.6532 - val_loss: 1.0285 - val_accuracy: 0.6740\n",
      "Epoch 8/30\n",
      "263/263 [==============================] - 3s 10ms/step - loss: 1.0534 - accuracy: 0.6632 - val_loss: 1.0444 - val_accuracy: 0.6701\n",
      "Epoch 9/30\n",
      "263/263 [==============================] - 3s 10ms/step - loss: 1.0124 - accuracy: 0.6785 - val_loss: 0.9694 - val_accuracy: 0.6915\n",
      "Epoch 10/30\n",
      "263/263 [==============================] - 3s 10ms/step - loss: 0.9746 - accuracy: 0.6921 - val_loss: 0.8991 - val_accuracy: 0.7138\n",
      "Epoch 11/30\n",
      "263/263 [==============================] - 3s 10ms/step - loss: 0.9659 - accuracy: 0.6944 - val_loss: 0.9157 - val_accuracy: 0.7036\n",
      "Epoch 12/30\n",
      "263/263 [==============================] - 3s 10ms/step - loss: 0.9188 - accuracy: 0.7122 - val_loss: 0.8384 - val_accuracy: 0.7358\n",
      "Epoch 13/30\n",
      "263/263 [==============================] - 3s 10ms/step - loss: 0.9061 - accuracy: 0.7114 - val_loss: 0.9163 - val_accuracy: 0.7069\n",
      "Epoch 14/30\n",
      "263/263 [==============================] - 3s 12ms/step - loss: 0.8889 - accuracy: 0.7179 - val_loss: 0.8251 - val_accuracy: 0.7389\n",
      "Epoch 15/30\n",
      "263/263 [==============================] - 3s 10ms/step - loss: 0.8651 - accuracy: 0.7255 - val_loss: 0.8127 - val_accuracy: 0.7404\n",
      "Epoch 16/30\n",
      "263/263 [==============================] - 3s 10ms/step - loss: 0.8504 - accuracy: 0.7314 - val_loss: 0.8339 - val_accuracy: 0.7326\n",
      "Epoch 17/30\n",
      "263/263 [==============================] - 3s 11ms/step - loss: 0.8430 - accuracy: 0.7345 - val_loss: 0.7999 - val_accuracy: 0.7533\n",
      "Epoch 18/30\n",
      "263/263 [==============================] - 3s 10ms/step - loss: 0.8240 - accuracy: 0.7386 - val_loss: 0.8168 - val_accuracy: 0.7408\n",
      "Epoch 19/30\n",
      "263/263 [==============================] - 3s 10ms/step - loss: 0.8057 - accuracy: 0.7451 - val_loss: 0.8121 - val_accuracy: 0.7439\n",
      "Epoch 20/30\n",
      "263/263 [==============================] - 3s 10ms/step - loss: 0.8019 - accuracy: 0.7471 - val_loss: 0.7627 - val_accuracy: 0.7621\n",
      "Epoch 21/30\n",
      "263/263 [==============================] - 3s 11ms/step - loss: 0.7806 - accuracy: 0.7521 - val_loss: 0.7441 - val_accuracy: 0.7701\n",
      "Epoch 22/30\n",
      "263/263 [==============================] - 3s 10ms/step - loss: 0.7779 - accuracy: 0.7537 - val_loss: 0.7412 - val_accuracy: 0.7712\n",
      "Epoch 23/30\n",
      "263/263 [==============================] - 3s 10ms/step - loss: 0.7664 - accuracy: 0.7568 - val_loss: 0.7943 - val_accuracy: 0.7519\n",
      "Epoch 24/30\n",
      "263/263 [==============================] - 3s 11ms/step - loss: 0.7579 - accuracy: 0.7591 - val_loss: 0.7919 - val_accuracy: 0.7545\n",
      "Epoch 25/30\n",
      "263/263 [==============================] - 3s 11ms/step - loss: 0.7464 - accuracy: 0.7622 - val_loss: 0.7105 - val_accuracy: 0.7806\n",
      "Epoch 26/30\n",
      "263/263 [==============================] - 3s 11ms/step - loss: 0.7395 - accuracy: 0.7641 - val_loss: 0.7517 - val_accuracy: 0.7650\n",
      "Epoch 27/30\n",
      "263/263 [==============================] - 3s 12ms/step - loss: 0.7230 - accuracy: 0.7707 - val_loss: 0.7178 - val_accuracy: 0.7774\n",
      "Epoch 28/30\n",
      "263/263 [==============================] - 3s 10ms/step - loss: 0.7258 - accuracy: 0.7697 - val_loss: 0.7577 - val_accuracy: 0.7614\n",
      "Epoch 29/30\n",
      "263/263 [==============================] - 3s 12ms/step - loss: 0.7212 - accuracy: 0.7721 - val_loss: 0.7026 - val_accuracy: 0.7836\n",
      "Epoch 30/30\n",
      "263/263 [==============================] - 3s 11ms/step - loss: 0.7040 - accuracy: 0.7788 - val_loss: 0.6978 - val_accuracy: 0.7844\n"
     ]
    }
   ],
   "source": [
    "# Fit the model\n",
    "\n",
    "history_model_2 = model_2.fit(X_train, y_train, validation_split=0.2, batch_size=128, verbose=1, epochs=30)"
   ]
  },
  {
   "cell_type": "markdown",
   "metadata": {
    "id": "6UjEIbPM0XIX"
   },
   "source": [
    "### **Plotting the validation and training accuracies**"
   ]
  },
  {
   "cell_type": "code",
   "execution_count": 78,
   "metadata": {
    "colab": {
     "base_uri": "https://localhost:8080/",
     "height": 497
    },
    "id": "01ig6BrF1KVy",
    "outputId": "af5d384e-91c9-4c28-f5f0-cc3d07927514"
   },
   "outputs": [
    {
     "data": {
      "image/png": "[encoded data removed]",
      "text/plain": [
       "<Figure size 576x576 with 1 Axes>"
      ]
     },
     "metadata": {
      "needs_background": "light"
     },
     "output_type": "display_data"
    }
   ],
   "source": [
    "# Plotting the accuracies\n",
    "\n",
    "dict_hist = history_model_2.history\n",
    "\n",
    "list_ep = [i for i in range(1, 31)]\n",
    "\n",
    "plt.figure(figsize = (8, 8))\n",
    "\n",
    "plt.plot(list_ep, dict_hist['accuracy'], ls = '--', label = 'accuracy')\n",
    "\n",
    "plt.plot(list_ep, dict_hist['val_accuracy'], ls = '--', label = 'val_accuracy')\n",
    "\n",
    "plt.ylabel('Accuracy')\n",
    "\n",
    "plt.xlabel('Epochs')\n",
    "\n",
    "plt.legend()\n",
    "\n",
    "plt.show()"
   ]
  },
  {
   "cell_type": "markdown",
   "metadata": {
    "id": "VPW1LlD61RDn"
   },
   "source": [
    "Observations:\n",
    "- I don't see the same pattern of having accuracies starting high in my graph here.\n",
    "- The accuracy is better with this model than the previous model!\n",
    "- After 30 epochs, we are around 0.78 accuracy.\n",
    "- Accuracy and validation are very similiar curves."
   ]
  },
  {
   "cell_type": "markdown",
   "metadata": {
    "id": "8kuXx9Bvu00f"
   },
   "source": [
    "## **Predictions on the test data**\n",
    "\n",
    "- Make predictions on the test set using the second model.\n",
    "- Print the obtained results using the classification report and the confusion matrix.\n",
    "- Final observations on the obtained results."
   ]
  },
  {
   "cell_type": "code",
   "execution_count": 79,
   "metadata": {
    "id": "xbWMEtTj5Ad0"
   },
   "outputs": [],
   "source": [
    "test_pred = model_2.predict(X_test)\n",
    "\n",
    "test_pred = np.argmax(test_pred, axis = -1)"
   ]
  },
  {
   "cell_type": "markdown",
   "metadata": {
    "id": "i3li8Ib08yts"
   },
   "source": [
    "**Note:** Earlier, we noticed that each entry of the target variable is a one-hot encoded vector but to print the classification report and confusion matrix, we must convert each entry of y_test to a single label."
   ]
  },
  {
   "cell_type": "code",
   "execution_count": 80,
   "metadata": {
    "id": "NByu7uAQ8x9P"
   },
   "outputs": [],
   "source": [
    "# Converting each entry to single label from one-hot encoded vector\n",
    "\n",
    "y_test = np.argmax(y_test, axis = -1)"
   ]
  },
  {
   "cell_type": "code",
   "execution_count": 81,
   "metadata": {
    "colab": {
     "base_uri": "https://localhost:8080/",
     "height": 629
    },
    "id": "xRddeJ-3EHT1",
    "outputId": "09fae761-e38c-45d9-84f5-738d7d445f49"
   },
   "outputs": [
    {
     "name": "stdout",
     "output_type": "stream",
     "text": [
      "              precision    recall  f1-score   support\n",
      "\n",
      "           0       0.86      0.79      0.82      1814\n",
      "           1       0.75      0.84      0.79      1828\n",
      "           2       0.82      0.80      0.81      1803\n",
      "           3       0.66      0.80      0.72      1719\n",
      "           4       0.77      0.86      0.81      1812\n",
      "           5       0.79      0.71      0.75      1768\n",
      "           6       0.85      0.73      0.79      1832\n",
      "           7       0.84      0.82      0.83      1808\n",
      "           8       0.73      0.75      0.74      1812\n",
      "           9       0.80      0.74      0.77      1804\n",
      "\n",
      "    accuracy                           0.78     18000\n",
      "   macro avg       0.79      0.78      0.78     18000\n",
      "weighted avg       0.79      0.78      0.78     18000\n",
      "\n"
     ]
    },
    {
     "data": {
      "image/png": "[encoded data removed]",
      "text/plain": [
       "<Figure size 576x360 with 2 Axes>"
      ]
     },
     "metadata": {
      "needs_background": "light"
     },
     "output_type": "display_data"
    }
   ],
   "source": [
    "# Importing required functions\n",
    "\n",
    "from sklearn.metrics import classification_report\n",
    "\n",
    "from sklearn.metrics import confusion_matrix\n",
    "\n",
    "# Printing the classification report\n",
    "\n",
    "print(classification_report(y_test, test_pred))\n",
    "\n",
    "# Plotting the heatmap using confusion matrix\n",
    "\n",
    "cm = confusion_matrix(y_test, test_pred)     #Write the code for creating confusion matrix using actual labels (y_test) and predicted labels (test_pred)\n",
    "\n",
    "plt.figure(figsize = (8, 5))\n",
    "\n",
    "sns.heatmap(cm, annot = True,  fmt = '.0f')\n",
    "\n",
    "plt.ylabel('Actual')\n",
    "\n",
    "plt.xlabel('Predicted')\n",
    "\n",
    "plt.show()"
   ]
  },
  {
   "cell_type": "markdown",
   "metadata": {
    "id": "DjErl4GA2u9s"
   },
   "source": [
    "Final Observations:\n",
    "- In this notebook, I built a feed- forward neural network model that can recognize digits from the SVHN dataset containing over 600,000 digits cropped from street photos.\n",
    "- Our model has weighted average of percision equal to 0.79 and weighted average of recall at 0.78.\n",
    "- You can see from the confusion matrix that sometimes 5 is mistaken for 3. This makes sense as these numbers have similiar shapes.\n",
    "- Other numbers mistaken for each other are 6 mistaken for 8, 3 mistaken for 5, 6 mistaken for 4.\n",
    "- Precision for 3 is relatively low at 66%. 0 is high at 86%\n",
    "- Recall for 4 is relatively high at 86%.\n"
   ]
  }
 ],
 "metadata": {
  "accelerator": "TPU",
  "colab": {
   "collapsed_sections": [],
   "name": "MichaelKasper_ANN.ipynb",
   "provenance": []
  },
  "kernelspec": {
   "display_name": "Python 3 (ipykernel)",
   "language": "python",
   "name": "python3"
  },
  "language_info": {
   "codemirror_mode": {
    "name": "ipython",
    "version": 3
   },
   "file_extension": ".py",
   "mimetype": "text/x-python",
   "name": "python",
   "nbconvert_exporter": "python",
   "pygments_lexer": "ipython3",
   "version": "3.9.12"
  }
 },
 "nbformat": 4,
 "nbformat_minor": 1
}
